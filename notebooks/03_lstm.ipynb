{
 "cells": [
  {
   "cell_type": "code",
   "execution_count": null,
   "id": "ee6c524c-d7a6-4588-af21-cca079f8ae2d",
   "metadata": {},
   "outputs": [],
   "source": [
    "# Cell 1: Simple Setup for LSTM (CPU-friendly)\n",
    "from pathlib import Path\n",
    "import numpy as np\n",
    "import pandas as pd\n",
    "import matplotlib.pyplot as plt\n",
    "import warnings\n",
    "warnings.filterwarnings('ignore')\n",
    "\n",
    "# Setup paths\n",
    "repo_root = Path.cwd()\n",
    "for up in [repo_root, repo_root.parent, repo_root.parent.parent]:\n",
    "    if (up / \"src\").exists():\n",
    "        repo_root = up\n",
    "        break\n",
    "\n",
    "import sys\n",
    "sys.path.insert(0, str(repo_root))\n",
    "\n",
    "# Simple TensorFlow check\n",
    "try:\n",
    "    import tensorflow as tf\n",
    "    print(f\"✓ TensorFlow version: {tf.__version__}\")\n",
    "    \n",
    "    # Disable GPU if causing issues\n",
    "    import os\n",
    "    os.environ['CUDA_VISIBLE_DEVICES'] = '-1'  # Force CPU usage\n",
    "    print(\"✓ Using CPU (GPU disabled for stability)\")\n",
    "    \n",
    "except ImportError:\n",
    "    print(\"ERROR: TensorFlow not installed!\")\n",
    "    print(\"For Mac: pip install tensorflow-macos\")\n",
    "    print(\"For others: pip install tensorflow\")\n",
    "    raise\n",
    "\n",
    "# Load data\n",
    "DATA = repo_root / \"data\" / \"processed\" / \"flights_nativecadence_enu_kinematics.parquet\"\n",
    "df = pd.read_parquet(DATA)\n",
    "\n",
    "print(f\"\\n✓ Loaded {len(df):,} rows\")\n",
    "print(f\"✓ Continuous runs: {df.groupby(['flight_id', 'run_id']).ngroups}\")\n",
    "\n",
    "# Check EKF baseline\n",
    "import pickle\n",
    "ekf_path = repo_root / \"results\" / \"ekf_baseline.pkl\"\n",
    "if ekf_path.exists():\n",
    "    with open(ekf_path, 'rb') as f:\n",
    "        ekf_results = pickle.load(f)\n",
    "    print(f\"\\n✓ EKF Baseline: {ekf_results['summary']['mean_rmse_60s']:.1f}m RMSE at 60s\")\n",
    "    print(\"  Goal: Beat this with LSTM!\")"
   ]
  },
  {
   "cell_type": "code",
   "execution_count": null,
   "id": "f3cc06d1-d6ab-4fa6-8db8-61c3fbf689b5",
   "metadata": {},
   "outputs": [],
   "source": []
  }
 ],
 "metadata": {
  "kernelspec": {
   "display_name": "Python 3 (ipykernel)",
   "language": "python",
   "name": "python3"
  },
  "language_info": {
   "codemirror_mode": {
    "name": "ipython",
    "version": 3
   },
   "file_extension": ".py",
   "mimetype": "text/x-python",
   "name": "python",
   "nbconvert_exporter": "python",
   "pygments_lexer": "ipython3",
   "version": "3.12.5"
  }
 },
 "nbformat": 4,
 "nbformat_minor": 5
}
